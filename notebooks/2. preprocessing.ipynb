{
 "cells": [
  {
   "cell_type": "markdown",
   "id": "07d8d9db-c631-411f-9719-a9c8697bda3c",
   "metadata": {},
   "source": [
    "# Preprocessing"
   ]
  },
  {
   "cell_type": "markdown",
   "id": "bd7c0416-dc8a-4467-8e33-a5c8ae7b2157",
   "metadata": {},
   "source": [
    "## Import Libraries"
   ]
  },
  {
   "cell_type": "code",
   "execution_count": 1,
   "id": "bee9fc3a-d86a-492f-9e94-9cd62fe025ed",
   "metadata": {
    "tags": []
   },
   "outputs": [
    {
     "name": "stdout",
     "output_type": "stream",
     "text": [
      "utils good\n"
     ]
    }
   ],
   "source": [
    "import pandas as pd\n",
    "import numpy as np\n",
    "import seaborn as sns\n",
    "import matplotlib.pyplot as plt\n",
    "\n",
    "from imblearn.under_sampling import RandomUnderSampler\n",
    "from imblearn.over_sampling import RandomOverSampler, SMOTE\n",
    "from sklearn.preprocessing import LabelEncoder\n",
    "from sklearn.preprocessing import OneHotEncoder\n",
    "\n",
    "import sys\n",
    "sys.path.append('../src')  \n",
    "import utils as util"
   ]
  },
  {
   "cell_type": "code",
   "execution_count": 2,
   "id": "471bd4a5-99d0-48a0-862d-4aed46c5104e",
   "metadata": {
    "tags": []
   },
   "outputs": [
    {
     "name": "stdout",
     "output_type": "stream",
     "text": [
      "OneHotEncoder\n",
      "check_data\n",
      "config_dir\n",
      "datetime\n",
      "dump_dataset\n",
      "joblib\n",
      "load_config\n",
      "load_dataset\n",
      "ohe_input\n",
      "pd\n",
      "pickle_dump\n",
      "pickle_load\n",
      "ros_fit_resample\n",
      "rus_fit_resample\n",
      "smote_fit_resample\n",
      "yaml\n"
     ]
    }
   ],
   "source": [
    "all_attributes = dir(util)\n",
    "\n",
    "user_defined = [attr for attr in all_attributes if not attr.startswith('_')]\n",
    "\n",
    "for attr in user_defined:\n",
    "    print(attr)"
   ]
  },
  {
   "cell_type": "markdown",
   "id": "090bdbb4-5e12-47a0-9856-1e8b4de47d0f",
   "metadata": {},
   "source": [
    "## Load Configuration File"
   ]
  },
  {
   "cell_type": "code",
   "execution_count": 3,
   "id": "cbb43814-5fc1-4faf-a39c-42476d10f70f",
   "metadata": {
    "tags": []
   },
   "outputs": [],
   "source": [
    "config_data = util.load_config()"
   ]
  },
  {
   "cell_type": "markdown",
   "id": "efb50ebd-7f63-4db4-b001-8b4d19281679",
   "metadata": {},
   "source": [
    "## Load Dataset"
   ]
  },
  {
   "cell_type": "code",
   "execution_count": 4,
   "id": "89d395c3-5863-438c-9a98-a1b2ae8372bd",
   "metadata": {
    "tags": []
   },
   "outputs": [],
   "source": [
    "def load_dataset(config_data: dict) -> pd.DataFrame:\n",
    "    \n",
    "    X_train_path = '../' + config_data['train_test_data']['directory'] + config_data['train_test_data']['X_train']\n",
    "    y_train_path = '../' + config_data['train_test_data']['directory'] + config_data['train_test_data']['y_train']\n",
    "\n",
    "    X_test_path = '../' + config_data['train_test_data']['directory'] + config_data['train_test_data']['X_test']\n",
    "    y_test_path = '../' + config_data['train_test_data']['directory'] + config_data['train_test_data']['y_test']\n",
    "\n",
    "    X_train = util.pickle_load(X_train_path)\n",
    "    y_train = util.pickle_load(y_train_path)\n",
    "\n",
    "    X_test = util.pickle_load(X_test_path)\n",
    "    y_test = util.pickle_load(y_test_path)\n",
    "\n",
    "    train_set = pd.concat([X_train, y_train], axis = 1)\n",
    "    test_set = pd.concat([X_test, y_test], axis = 1)\n",
    "    \n",
    "    # dataset = pd.concat([train_set, test_set], axis = 0)\n",
    "    \n",
    "    return train_set, test_set "
   ]
  },
  {
   "cell_type": "code",
   "execution_count": 5,
   "id": "9c03452a-3012-403f-b715-323bc0134864",
   "metadata": {
    "tags": []
   },
   "outputs": [],
   "source": [
    "train_set, test_set  = load_dataset(config_data)"
   ]
  },
  {
   "cell_type": "markdown",
   "id": "36137e35-782b-4635-a832-1a5fa7519ce0",
   "metadata": {},
   "source": [
    "## Train Set"
   ]
  },
  {
   "cell_type": "code",
   "execution_count": 6,
   "id": "92633854-ab31-40a0-9aca-19020a60e0e4",
   "metadata": {
    "tags": []
   },
   "outputs": [
    {
     "data": {
      "text/plain": [
       "LeaveOrNot\n",
       "0    2137\n",
       "1    1120\n",
       "Name: count, dtype: int64"
      ]
     },
     "execution_count": 6,
     "metadata": {},
     "output_type": "execute_result"
    }
   ],
   "source": [
    "train_set[config_data['data_source']['target_name']].value_counts()"
   ]
  },
  {
   "cell_type": "code",
   "execution_count": 7,
   "id": "cd86a207-ff3c-462f-a708-9855a0124cea",
   "metadata": {
    "tags": []
   },
   "outputs": [
    {
     "data": {
      "text/plain": [
       "Education                    0\n",
       "JoiningYear                  0\n",
       "City                         0\n",
       "PaymentTier                  0\n",
       "Age                          0\n",
       "Gender                       0\n",
       "EverBenched                  0\n",
       "ExperienceInCurrentDomain    0\n",
       "LeaveOrNot                   0\n",
       "dtype: int64"
      ]
     },
     "execution_count": 7,
     "metadata": {},
     "output_type": "execute_result"
    }
   ],
   "source": [
    "train_set.isnull().sum()"
   ]
  },
  {
   "cell_type": "markdown",
   "id": "fb449a29-9903-4ec5-9ad5-e26304adfdc7",
   "metadata": {},
   "source": [
    "## Test Set"
   ]
  },
  {
   "cell_type": "code",
   "execution_count": 8,
   "id": "b1c127b5-579e-450d-85d0-9e8573331168",
   "metadata": {
    "tags": []
   },
   "outputs": [
    {
     "data": {
      "text/plain": [
       "LeaveOrNot\n",
       "0    916\n",
       "1    480\n",
       "Name: count, dtype: int64"
      ]
     },
     "execution_count": 8,
     "metadata": {},
     "output_type": "execute_result"
    }
   ],
   "source": [
    "test_set[config_data['data_source']['target_name']].value_counts()"
   ]
  },
  {
   "cell_type": "code",
   "execution_count": 9,
   "id": "000a0913-dbef-49ce-9fe1-6adf2f91aba5",
   "metadata": {
    "tags": []
   },
   "outputs": [
    {
     "data": {
      "text/plain": [
       "Education                    0\n",
       "JoiningYear                  0\n",
       "City                         0\n",
       "PaymentTier                  0\n",
       "Age                          0\n",
       "Gender                       0\n",
       "EverBenched                  0\n",
       "ExperienceInCurrentDomain    0\n",
       "LeaveOrNot                   0\n",
       "dtype: int64"
      ]
     },
     "execution_count": 9,
     "metadata": {},
     "output_type": "execute_result"
    }
   ],
   "source": [
    "test_set.isnull().sum()"
   ]
  },
  {
   "cell_type": "markdown",
   "id": "8f4b5421-14d4-4ed5-96ef-9df6baede3af",
   "metadata": {},
   "source": [
    "## Encoding"
   ]
  },
  {
   "cell_type": "code",
   "execution_count": 10,
   "id": "47410764-ba43-4a71-a600-d392e79c4f28",
   "metadata": {
    "tags": []
   },
   "outputs": [],
   "source": [
    "def ohe_fit(data_tobe_fitted: dict, ohe_path: str) -> OneHotEncoder:\n",
    "\n",
    "    ohe_edu = OneHotEncoder(sparse_output = False)\n",
    "    ohe_edu.fit(np.array(data_tobe_fitted).reshape(-1, 1))\n",
    "\n",
    "    util.pickle_dump(ohe_edu, ohe_path)\n",
    "    \n",
    "    return ohe_edu"
   ]
  },
  {
   "cell_type": "code",
   "execution_count": 11,
   "id": "1d86fee7-eefd-468b-a9a4-ea620b5fd8bb",
   "metadata": {
    "tags": []
   },
   "outputs": [],
   "source": [
    "def ohe_transform(set_data: pd.DataFrame, tranformed_column: str, ohe_path: str) -> pd.DataFrame:\n",
    "    set_data = set_data.copy()\n",
    "\n",
    "    ohe_edu = util.pickle_load(ohe_path)\n",
    "\n",
    "    stasiun_features = ohe_edu.transform(np.array(set_data[tranformed_column].to_list()).reshape(-1, 1))\n",
    "\n",
    "    stasiun_features = pd.DataFrame(stasiun_features.tolist(), columns = list(ohe_edu.categories_[0]))\n",
    "\n",
    "    stasiun_features.set_index(set_data.index, inplace = True)\n",
    "\n",
    "    set_data = pd.concat([stasiun_features, set_data], axis = 1)\n",
    "\n",
    "    set_data.drop(columns = tranformed_column, inplace = True)\n",
    "\n",
    "    new_col = [str(col_name) for col_name in set_data.columns.to_list()]\n",
    "    set_data.columns = new_col\n",
    "\n",
    "    return set_data"
   ]
  },
  {
   "cell_type": "code",
   "execution_count": 12,
   "id": "9a81726b-7ba0-40b1-bed4-001066a8a7ee",
   "metadata": {
    "tags": []
   },
   "outputs": [
    {
     "data": {
      "text/html": [
       "<style>#sk-container-id-1 {color: black;}#sk-container-id-1 pre{padding: 0;}#sk-container-id-1 div.sk-toggleable {background-color: white;}#sk-container-id-1 label.sk-toggleable__label {cursor: pointer;display: block;width: 100%;margin-bottom: 0;padding: 0.3em;box-sizing: border-box;text-align: center;}#sk-container-id-1 label.sk-toggleable__label-arrow:before {content: \"▸\";float: left;margin-right: 0.25em;color: #696969;}#sk-container-id-1 label.sk-toggleable__label-arrow:hover:before {color: black;}#sk-container-id-1 div.sk-estimator:hover label.sk-toggleable__label-arrow:before {color: black;}#sk-container-id-1 div.sk-toggleable__content {max-height: 0;max-width: 0;overflow: hidden;text-align: left;background-color: #f0f8ff;}#sk-container-id-1 div.sk-toggleable__content pre {margin: 0.2em;color: black;border-radius: 0.25em;background-color: #f0f8ff;}#sk-container-id-1 input.sk-toggleable__control:checked~div.sk-toggleable__content {max-height: 200px;max-width: 100%;overflow: auto;}#sk-container-id-1 input.sk-toggleable__control:checked~label.sk-toggleable__label-arrow:before {content: \"▾\";}#sk-container-id-1 div.sk-estimator input.sk-toggleable__control:checked~label.sk-toggleable__label {background-color: #d4ebff;}#sk-container-id-1 div.sk-label input.sk-toggleable__control:checked~label.sk-toggleable__label {background-color: #d4ebff;}#sk-container-id-1 input.sk-hidden--visually {border: 0;clip: rect(1px 1px 1px 1px);clip: rect(1px, 1px, 1px, 1px);height: 1px;margin: -1px;overflow: hidden;padding: 0;position: absolute;width: 1px;}#sk-container-id-1 div.sk-estimator {font-family: monospace;background-color: #f0f8ff;border: 1px dotted black;border-radius: 0.25em;box-sizing: border-box;margin-bottom: 0.5em;}#sk-container-id-1 div.sk-estimator:hover {background-color: #d4ebff;}#sk-container-id-1 div.sk-parallel-item::after {content: \"\";width: 100%;border-bottom: 1px solid gray;flex-grow: 1;}#sk-container-id-1 div.sk-label:hover label.sk-toggleable__label {background-color: #d4ebff;}#sk-container-id-1 div.sk-serial::before {content: \"\";position: absolute;border-left: 1px solid gray;box-sizing: border-box;top: 0;bottom: 0;left: 50%;z-index: 0;}#sk-container-id-1 div.sk-serial {display: flex;flex-direction: column;align-items: center;background-color: white;padding-right: 0.2em;padding-left: 0.2em;position: relative;}#sk-container-id-1 div.sk-item {position: relative;z-index: 1;}#sk-container-id-1 div.sk-parallel {display: flex;align-items: stretch;justify-content: center;background-color: white;position: relative;}#sk-container-id-1 div.sk-item::before, #sk-container-id-1 div.sk-parallel-item::before {content: \"\";position: absolute;border-left: 1px solid gray;box-sizing: border-box;top: 0;bottom: 0;left: 50%;z-index: -1;}#sk-container-id-1 div.sk-parallel-item {display: flex;flex-direction: column;z-index: 1;position: relative;background-color: white;}#sk-container-id-1 div.sk-parallel-item:first-child::after {align-self: flex-end;width: 50%;}#sk-container-id-1 div.sk-parallel-item:last-child::after {align-self: flex-start;width: 50%;}#sk-container-id-1 div.sk-parallel-item:only-child::after {width: 0;}#sk-container-id-1 div.sk-dashed-wrapped {border: 1px dashed gray;margin: 0 0.4em 0.5em 0.4em;box-sizing: border-box;padding-bottom: 0.4em;background-color: white;}#sk-container-id-1 div.sk-label label {font-family: monospace;font-weight: bold;display: inline-block;line-height: 1.2em;}#sk-container-id-1 div.sk-label-container {text-align: center;}#sk-container-id-1 div.sk-container {/* jupyter's `normalize.less` sets `[hidden] { display: none; }` but bootstrap.min.css set `[hidden] { display: none !important; }` so we also need the `!important` here to be able to override the default hidden behavior on the sphinx rendered scikit-learn.org. See: https://github.com/scikit-learn/scikit-learn/issues/21755 */display: inline-block !important;position: relative;}#sk-container-id-1 div.sk-text-repr-fallback {display: none;}</style><div id=\"sk-container-id-1\" class=\"sk-top-container\"><div class=\"sk-text-repr-fallback\"><pre>OneHotEncoder(sparse_output=False)</pre><b>In a Jupyter environment, please rerun this cell to show the HTML representation or trust the notebook. <br />On GitHub, the HTML representation is unable to render, please try loading this page with nbviewer.org.</b></div><div class=\"sk-container\" hidden><div class=\"sk-item\"><div class=\"sk-estimator sk-toggleable\"><input class=\"sk-toggleable__control sk-hidden--visually\" id=\"sk-estimator-id-1\" type=\"checkbox\" checked><label for=\"sk-estimator-id-1\" class=\"sk-toggleable__label sk-toggleable__label-arrow\">OneHotEncoder</label><div class=\"sk-toggleable__content\"><pre>OneHotEncoder(sparse_output=False)</pre></div></div></div></div></div>"
      ],
      "text/plain": [
       "OneHotEncoder(sparse_output=False)"
      ]
     },
     "execution_count": 12,
     "metadata": {},
     "output_type": "execute_result"
    }
   ],
   "source": [
    "ohe_education_path = '../' + config_data['ohe_education_path']\n",
    "ohe_city_path = '../' + config_data['ohe_city_path']\n",
    "ohe_gender_path = '../' + config_data['ohe_gender_path']\n",
    "ohe_everbenched_path = '../' + config_data['ohe_everbenched_path']\n",
    "\n",
    "ohe_education = ohe_fit(config_data['data_defense']['Education']['value'], ohe_education_path)\n",
    "ohe_city = ohe_fit(config_data['data_defense']['City']['value'], ohe_city_path)\n",
    "ohe_gender = ohe_fit(config_data['data_defense']['Gender']['value'], ohe_gender_path)\n",
    "ohe_everbenched = ohe_fit(config_data['data_defense']['EverBenched']['value'], ohe_everbenched_path)\n",
    "\n",
    "ohe_education"
   ]
  },
  {
   "cell_type": "code",
   "execution_count": 13,
   "id": "9d526ab2-c906-446e-ba97-81ae620169bf",
   "metadata": {
    "tags": []
   },
   "outputs": [],
   "source": [
    "train_set = ohe_transform(train_set, 'Education', ohe_education_path)\n",
    "train_set = ohe_transform(train_set, 'City', ohe_city_path)\n",
    "train_set = ohe_transform(train_set, 'Gender', ohe_gender_path)\n",
    "train_set = ohe_transform(train_set, 'EverBenched', ohe_everbenched_path)"
   ]
  },
  {
   "cell_type": "code",
   "execution_count": 14,
   "id": "7a4f197b-cffe-42ea-92ab-74d5ce24f86c",
   "metadata": {
    "tags": []
   },
   "outputs": [],
   "source": [
    "test_set = ohe_transform(test_set, 'Education', ohe_education_path)\n",
    "test_set = ohe_transform(test_set, 'City', ohe_city_path)\n",
    "test_set = ohe_transform(test_set, 'Gender', ohe_gender_path)\n",
    "test_set = ohe_transform(test_set, 'EverBenched', ohe_everbenched_path)"
   ]
  },
  {
   "cell_type": "markdown",
   "id": "2329377f-5fe1-489c-91f9-ebdfc2ad52ae",
   "metadata": {},
   "source": [
    "## Sampling"
   ]
  },
  {
   "cell_type": "code",
   "execution_count": 15,
   "id": "706cf04e-18fc-4a0f-8e83-3cd442ce28bd",
   "metadata": {
    "tags": []
   },
   "outputs": [],
   "source": [
    "def plot_label_dist(data: pd.DataFrame, target_column: str):\n",
    "    \n",
    "    plt.figure(figsize=(4, 4))\n",
    "    plt.suptitle('Label Distribution', y=0.96)\n",
    "\n",
    "    g = sns.countplot(x=target_column, \n",
    "                      hue=target_column, \n",
    "                      data=data, palette='muted')\n",
    "    g.set(ylabel='Number', xlabel='Target')\n",
    "    \n",
    "    plt.show()"
   ]
  },
  {
   "cell_type": "code",
   "execution_count": 16,
   "id": "1417d671-4f61-4046-849b-e07f88d0ec44",
   "metadata": {
    "tags": []
   },
   "outputs": [
    {
     "data": {
      "image/png": "[encoded data removed]",
      "text/plain": [
       "<Figure size 400x400 with 1 Axes>"
      ]
     },
     "metadata": {},
     "output_type": "display_data"
    }
   ],
   "source": [
    "plot_label_dist(train_set, config_data['data_source']['target_name'])"
   ]
  },
  {
   "cell_type": "markdown",
   "id": "6c631b01-4b6a-4b67-9978-b39b0cc57a62",
   "metadata": {},
   "source": [
    "### Random Under Sampling"
   ]
  },
  {
   "cell_type": "code",
   "execution_count": 17,
   "id": "a5075824-b6ad-4337-91a1-3ade6c3e909a",
   "metadata": {
    "tags": []
   },
   "outputs": [],
   "source": [
    "def rus_fit_resample(set_data: pd.DataFrame) -> pd.DataFrame:\n",
    "    set_data = set_data.copy()\n",
    "    rus = RandomUnderSampler(random_state = 26)\n",
    "\n",
    "    x_rus, y_rus = rus.fit_resample(set_data.drop(config_data['data_source']['target_name'], axis = 1), \n",
    "                                    set_data[config_data['data_source']['target_name']])\n",
    "    set_data_rus = pd.concat([x_rus, y_rus], axis = 1)\n",
    "    return set_data_rus"
   ]
  },
  {
   "cell_type": "code",
   "execution_count": 18,
   "id": "80af3913-7198-4622-a0c8-efef613ec305",
   "metadata": {
    "tags": []
   },
   "outputs": [],
   "source": [
    "train_set_rus = rus_fit_resample(train_set)"
   ]
  },
  {
   "cell_type": "code",
   "execution_count": 21,
   "id": "c78c0616-c9fe-4a64-9369-e99ae8c1ef03",
   "metadata": {
    "tags": []
   },
   "outputs": [
    {
     "data": {
      "image/png": "[encoded data removed]",
      "text/plain": [
       "<Figure size 400x400 with 1 Axes>"
      ]
     },
     "metadata": {},
     "output_type": "display_data"
    }
   ],
   "source": [
    "plot_label_dist(train_set_rus, config_data['data_source']['target_name'])"
   ]
  },
  {
   "cell_type": "markdown",
   "id": "b0f65378-77a5-4153-877a-512eccf9b4bb",
   "metadata": {},
   "source": [
    "### Random Over Sampling"
   ]
  },
  {
   "cell_type": "code",
   "execution_count": 22,
   "id": "d1e7e67d-83f6-428b-bf8f-bd6d564ca7d1",
   "metadata": {
    "tags": []
   },
   "outputs": [],
   "source": [
    "def ros_fit_resample(set_data: pd.DataFrame) -> pd.DataFrame:\n",
    "    set_data = set_data.copy()\n",
    "    ros = RandomOverSampler(random_state = 11)\n",
    "\n",
    "    x_ros, y_ros = ros.fit_resample(set_data.drop(config_data['data_source']['target_name'], axis = 1), \n",
    "                                    set_data[config_data['data_source']['target_name']])\n",
    "    set_data_ros = pd.concat([x_ros, y_ros], axis = 1)\n",
    "    return set_data_ros"
   ]
  },
  {
   "cell_type": "code",
   "execution_count": 24,
   "id": "36125691-8321-4008-8ee8-350405ca5654",
   "metadata": {
    "tags": []
   },
   "outputs": [],
   "source": [
    "train_set_ros = ros_fit_resample(train_set)"
   ]
  },
  {
   "cell_type": "code",
   "execution_count": 25,
   "id": "796f20b7-e6c8-4d9f-b0a4-4508ba2ddb78",
   "metadata": {
    "tags": []
   },
   "outputs": [
    {
     "data": {
      "image/png": "[encoded data removed]",
      "text/plain": [
       "<Figure size 400x400 with 1 Axes>"
      ]
     },
     "metadata": {},
     "output_type": "display_data"
    }
   ],
   "source": [
    "plot_label_dist(train_set_ros, config_data['data_source']['target_name'])"
   ]
  },
  {
   "cell_type": "markdown",
   "id": "dc19f6bb-179c-4274-8258-5400d3992076",
   "metadata": {},
   "source": [
    "### Synthetic Minority Over-sampling Technique (SMOTE)"
   ]
  },
  {
   "cell_type": "code",
   "execution_count": 26,
   "id": "6d8e65b4-7f42-4f15-bc6e-102dd484a897",
   "metadata": {
    "tags": []
   },
   "outputs": [],
   "source": [
    "def smote_fit_resample(set_data: pd.DataFrame) -> pd.DataFrame:\n",
    "    set_data = set_data.copy()\n",
    "    sm = SMOTE(random_state = 112)\n",
    "\n",
    "    x_sm, y_sm = sm.fit_resample(set_data.drop(config_data['data_source']['target_name'], axis = 1),\n",
    "                                 set_data[config_data['data_source']['target_name']])\n",
    "    set_data_sm = pd.concat([x_sm, y_sm], axis = 1)\n",
    "    return set_data_sm"
   ]
  },
  {
   "cell_type": "code",
   "execution_count": 28,
   "id": "93a1b996-b494-4238-a44c-7fe88725840d",
   "metadata": {
    "tags": []
   },
   "outputs": [],
   "source": [
    "train_set_smote = smote_fit_resample(train_set)"
   ]
  },
  {
   "cell_type": "code",
   "execution_count": 27,
   "id": "9aedee38-5256-4b71-8717-6bb7f4f59d8d",
   "metadata": {
    "tags": []
   },
   "outputs": [
    {
     "data": {
      "image/png": "[encoded data removed]",
      "text/plain": [
       "<Figure size 400x400 with 1 Axes>"
      ]
     },
     "metadata": {},
     "output_type": "display_data"
    }
   ],
   "source": [
    "plot_label_dist(train_set_smote, config_data['data_source']['target_name'])"
   ]
  },
  {
   "cell_type": "markdown",
   "id": "f786feb8-fe93-4425-af12-fd2043fb07cb",
   "metadata": {},
   "source": [
    "## Dump Data"
   ]
  },
  {
   "cell_type": "code",
   "execution_count": 28,
   "id": "08bc336f-e6ff-40d1-b4ac-4dddf854c8ac",
   "metadata": {
    "tags": []
   },
   "outputs": [],
   "source": [
    "X_train = {\n",
    "    'WithoutResampling' : train_set.drop(columns = config_data['data_source']['target_name']),\n",
    "    'Undersampling' : train_set_rus.drop(columns = config_data['data_source']['target_name']),\n",
    "    'Oversampling' : train_set_ros.drop(columns = config_data['data_source']['target_name']),\n",
    "    'SMOTE' : train_set_smote.drop(columns = config_data['data_source']['target_name'])\n",
    "}\n",
    "\n",
    "y_train = {\n",
    "    'WithoutResampling' : train_set[config_data['data_source']['target_name']],\n",
    "    'Undersampling' : train_set_rus[config_data['data_source']['target_name']],\n",
    "    'Oversampling' : train_set_ros[config_data['data_source']['target_name']],\n",
    "    'SMOTE' : train_set_smote[config_data['data_source']['target_name']]\n",
    "}"
   ]
  },
  {
   "cell_type": "code",
   "execution_count": 29,
   "id": "c1fa4fc0-4083-4f77-b230-05846c661f17",
   "metadata": {
    "tags": []
   },
   "outputs": [
    {
     "data": {
      "text/html": [
       "<div>\n",
       "<style scoped>\n",
       "    .dataframe tbody tr th:only-of-type {\n",
       "        vertical-align: middle;\n",
       "    }\n",
       "\n",
       "    .dataframe tbody tr th {\n",
       "        vertical-align: top;\n",
       "    }\n",
       "\n",
       "    .dataframe thead th {\n",
       "        text-align: right;\n",
       "    }\n",
       "</style>\n",
       "<table border=\"1\" class=\"dataframe\">\n",
       "  <thead>\n",
       "    <tr style=\"text-align: right;\">\n",
       "      <th></th>\n",
       "      <th>No</th>\n",
       "      <th>Yes</th>\n",
       "      <th>Female</th>\n",
       "      <th>Male</th>\n",
       "      <th>Bangalore</th>\n",
       "      <th>New Delhi</th>\n",
       "      <th>Pune</th>\n",
       "      <th>Bachelors</th>\n",
       "      <th>Masters</th>\n",
       "      <th>PHD</th>\n",
       "      <th>JoiningYear</th>\n",
       "      <th>PaymentTier</th>\n",
       "      <th>Age</th>\n",
       "      <th>ExperienceInCurrentDomain</th>\n",
       "    </tr>\n",
       "  </thead>\n",
       "  <tbody>\n",
       "    <tr>\n",
       "      <th>588</th>\n",
       "      <td>1.0</td>\n",
       "      <td>0.0</td>\n",
       "      <td>0.0</td>\n",
       "      <td>1.0</td>\n",
       "      <td>1.0</td>\n",
       "      <td>0.0</td>\n",
       "      <td>0.0</td>\n",
       "      <td>1.0</td>\n",
       "      <td>0.0</td>\n",
       "      <td>0.0</td>\n",
       "      <td>2014</td>\n",
       "      <td>3</td>\n",
       "      <td>27</td>\n",
       "      <td>5</td>\n",
       "    </tr>\n",
       "    <tr>\n",
       "      <th>2638</th>\n",
       "      <td>1.0</td>\n",
       "      <td>0.0</td>\n",
       "      <td>1.0</td>\n",
       "      <td>0.0</td>\n",
       "      <td>0.0</td>\n",
       "      <td>1.0</td>\n",
       "      <td>0.0</td>\n",
       "      <td>0.0</td>\n",
       "      <td>1.0</td>\n",
       "      <td>0.0</td>\n",
       "      <td>2017</td>\n",
       "      <td>2</td>\n",
       "      <td>30</td>\n",
       "      <td>2</td>\n",
       "    </tr>\n",
       "    <tr>\n",
       "      <th>4592</th>\n",
       "      <td>1.0</td>\n",
       "      <td>0.0</td>\n",
       "      <td>1.0</td>\n",
       "      <td>0.0</td>\n",
       "      <td>0.0</td>\n",
       "      <td>1.0</td>\n",
       "      <td>0.0</td>\n",
       "      <td>1.0</td>\n",
       "      <td>0.0</td>\n",
       "      <td>0.0</td>\n",
       "      <td>2013</td>\n",
       "      <td>3</td>\n",
       "      <td>28</td>\n",
       "      <td>0</td>\n",
       "    </tr>\n",
       "    <tr>\n",
       "      <th>1966</th>\n",
       "      <td>1.0</td>\n",
       "      <td>0.0</td>\n",
       "      <td>1.0</td>\n",
       "      <td>0.0</td>\n",
       "      <td>0.0</td>\n",
       "      <td>0.0</td>\n",
       "      <td>1.0</td>\n",
       "      <td>1.0</td>\n",
       "      <td>0.0</td>\n",
       "      <td>0.0</td>\n",
       "      <td>2013</td>\n",
       "      <td>3</td>\n",
       "      <td>24</td>\n",
       "      <td>2</td>\n",
       "    </tr>\n",
       "    <tr>\n",
       "      <th>171</th>\n",
       "      <td>1.0</td>\n",
       "      <td>0.0</td>\n",
       "      <td>0.0</td>\n",
       "      <td>1.0</td>\n",
       "      <td>0.0</td>\n",
       "      <td>0.0</td>\n",
       "      <td>1.0</td>\n",
       "      <td>1.0</td>\n",
       "      <td>0.0</td>\n",
       "      <td>0.0</td>\n",
       "      <td>2015</td>\n",
       "      <td>3</td>\n",
       "      <td>25</td>\n",
       "      <td>3</td>\n",
       "    </tr>\n",
       "    <tr>\n",
       "      <th>...</th>\n",
       "      <td>...</td>\n",
       "      <td>...</td>\n",
       "      <td>...</td>\n",
       "      <td>...</td>\n",
       "      <td>...</td>\n",
       "      <td>...</td>\n",
       "      <td>...</td>\n",
       "      <td>...</td>\n",
       "      <td>...</td>\n",
       "      <td>...</td>\n",
       "      <td>...</td>\n",
       "      <td>...</td>\n",
       "      <td>...</td>\n",
       "      <td>...</td>\n",
       "    </tr>\n",
       "    <tr>\n",
       "      <th>856</th>\n",
       "      <td>1.0</td>\n",
       "      <td>0.0</td>\n",
       "      <td>1.0</td>\n",
       "      <td>0.0</td>\n",
       "      <td>0.0</td>\n",
       "      <td>1.0</td>\n",
       "      <td>0.0</td>\n",
       "      <td>1.0</td>\n",
       "      <td>0.0</td>\n",
       "      <td>0.0</td>\n",
       "      <td>2016</td>\n",
       "      <td>3</td>\n",
       "      <td>27</td>\n",
       "      <td>5</td>\n",
       "    </tr>\n",
       "    <tr>\n",
       "      <th>984</th>\n",
       "      <td>1.0</td>\n",
       "      <td>0.0</td>\n",
       "      <td>1.0</td>\n",
       "      <td>0.0</td>\n",
       "      <td>1.0</td>\n",
       "      <td>0.0</td>\n",
       "      <td>0.0</td>\n",
       "      <td>1.0</td>\n",
       "      <td>0.0</td>\n",
       "      <td>0.0</td>\n",
       "      <td>2015</td>\n",
       "      <td>3</td>\n",
       "      <td>25</td>\n",
       "      <td>3</td>\n",
       "    </tr>\n",
       "    <tr>\n",
       "      <th>1213</th>\n",
       "      <td>1.0</td>\n",
       "      <td>0.0</td>\n",
       "      <td>0.0</td>\n",
       "      <td>1.0</td>\n",
       "      <td>1.0</td>\n",
       "      <td>0.0</td>\n",
       "      <td>0.0</td>\n",
       "      <td>1.0</td>\n",
       "      <td>0.0</td>\n",
       "      <td>0.0</td>\n",
       "      <td>2014</td>\n",
       "      <td>3</td>\n",
       "      <td>27</td>\n",
       "      <td>5</td>\n",
       "    </tr>\n",
       "    <tr>\n",
       "      <th>2103</th>\n",
       "      <td>1.0</td>\n",
       "      <td>0.0</td>\n",
       "      <td>0.0</td>\n",
       "      <td>1.0</td>\n",
       "      <td>1.0</td>\n",
       "      <td>0.0</td>\n",
       "      <td>0.0</td>\n",
       "      <td>1.0</td>\n",
       "      <td>0.0</td>\n",
       "      <td>0.0</td>\n",
       "      <td>2016</td>\n",
       "      <td>3</td>\n",
       "      <td>29</td>\n",
       "      <td>2</td>\n",
       "    </tr>\n",
       "    <tr>\n",
       "      <th>4131</th>\n",
       "      <td>1.0</td>\n",
       "      <td>0.0</td>\n",
       "      <td>0.0</td>\n",
       "      <td>1.0</td>\n",
       "      <td>0.0</td>\n",
       "      <td>0.0</td>\n",
       "      <td>1.0</td>\n",
       "      <td>1.0</td>\n",
       "      <td>0.0</td>\n",
       "      <td>0.0</td>\n",
       "      <td>2017</td>\n",
       "      <td>2</td>\n",
       "      <td>34</td>\n",
       "      <td>2</td>\n",
       "    </tr>\n",
       "  </tbody>\n",
       "</table>\n",
       "<p>3257 rows × 14 columns</p>\n",
       "</div>"
      ],
      "text/plain": [
       "       No  Yes  Female  Male  Bangalore  New Delhi  Pune  Bachelors  Masters  \\\n",
       "588   1.0  0.0     0.0   1.0        1.0        0.0   0.0        1.0      0.0   \n",
       "2638  1.0  0.0     1.0   0.0        0.0        1.0   0.0        0.0      1.0   \n",
       "4592  1.0  0.0     1.0   0.0        0.0        1.0   0.0        1.0      0.0   \n",
       "1966  1.0  0.0     1.0   0.0        0.0        0.0   1.0        1.0      0.0   \n",
       "171   1.0  0.0     0.0   1.0        0.0        0.0   1.0        1.0      0.0   \n",
       "...   ...  ...     ...   ...        ...        ...   ...        ...      ...   \n",
       "856   1.0  0.0     1.0   0.0        0.0        1.0   0.0        1.0      0.0   \n",
       "984   1.0  0.0     1.0   0.0        1.0        0.0   0.0        1.0      0.0   \n",
       "1213  1.0  0.0     0.0   1.0        1.0        0.0   0.0        1.0      0.0   \n",
       "2103  1.0  0.0     0.0   1.0        1.0        0.0   0.0        1.0      0.0   \n",
       "4131  1.0  0.0     0.0   1.0        0.0        0.0   1.0        1.0      0.0   \n",
       "\n",
       "      PHD  JoiningYear  PaymentTier  Age  ExperienceInCurrentDomain  \n",
       "588   0.0         2014            3   27                          5  \n",
       "2638  0.0         2017            2   30                          2  \n",
       "4592  0.0         2013            3   28                          0  \n",
       "1966  0.0         2013            3   24                          2  \n",
       "171   0.0         2015            3   25                          3  \n",
       "...   ...          ...          ...  ...                        ...  \n",
       "856   0.0         2016            3   27                          5  \n",
       "984   0.0         2015            3   25                          3  \n",
       "1213  0.0         2014            3   27                          5  \n",
       "2103  0.0         2016            3   29                          2  \n",
       "4131  0.0         2017            2   34                          2  \n",
       "\n",
       "[3257 rows x 14 columns]"
      ]
     },
     "execution_count": 29,
     "metadata": {},
     "output_type": "execute_result"
    }
   ],
   "source": [
    "X_train['WithoutResampling']"
   ]
  },
  {
   "cell_type": "code",
   "execution_count": 30,
   "id": "c32a3d36-9ecd-4f42-920a-6aa2369ddd31",
   "metadata": {
    "tags": []
   },
   "outputs": [
    {
     "data": {
      "text/html": [
       "<div>\n",
       "<style scoped>\n",
       "    .dataframe tbody tr th:only-of-type {\n",
       "        vertical-align: middle;\n",
       "    }\n",
       "\n",
       "    .dataframe tbody tr th {\n",
       "        vertical-align: top;\n",
       "    }\n",
       "\n",
       "    .dataframe thead th {\n",
       "        text-align: right;\n",
       "    }\n",
       "</style>\n",
       "<table border=\"1\" class=\"dataframe\">\n",
       "  <thead>\n",
       "    <tr style=\"text-align: right;\">\n",
       "      <th></th>\n",
       "      <th>No</th>\n",
       "      <th>Yes</th>\n",
       "      <th>Female</th>\n",
       "      <th>Male</th>\n",
       "      <th>Bangalore</th>\n",
       "      <th>New Delhi</th>\n",
       "      <th>Pune</th>\n",
       "      <th>Bachelors</th>\n",
       "      <th>Masters</th>\n",
       "      <th>PHD</th>\n",
       "      <th>JoiningYear</th>\n",
       "      <th>PaymentTier</th>\n",
       "      <th>Age</th>\n",
       "      <th>ExperienceInCurrentDomain</th>\n",
       "      <th>LeaveOrNot</th>\n",
       "    </tr>\n",
       "  </thead>\n",
       "  <tbody>\n",
       "    <tr>\n",
       "      <th>825</th>\n",
       "      <td>1.0</td>\n",
       "      <td>0.0</td>\n",
       "      <td>1.0</td>\n",
       "      <td>0.0</td>\n",
       "      <td>1.0</td>\n",
       "      <td>0.0</td>\n",
       "      <td>0.0</td>\n",
       "      <td>1.0</td>\n",
       "      <td>0.0</td>\n",
       "      <td>0.0</td>\n",
       "      <td>2012</td>\n",
       "      <td>3</td>\n",
       "      <td>27</td>\n",
       "      <td>5</td>\n",
       "      <td>0</td>\n",
       "    </tr>\n",
       "    <tr>\n",
       "      <th>1395</th>\n",
       "      <td>1.0</td>\n",
       "      <td>0.0</td>\n",
       "      <td>0.0</td>\n",
       "      <td>1.0</td>\n",
       "      <td>1.0</td>\n",
       "      <td>0.0</td>\n",
       "      <td>0.0</td>\n",
       "      <td>1.0</td>\n",
       "      <td>0.0</td>\n",
       "      <td>0.0</td>\n",
       "      <td>2014</td>\n",
       "      <td>3</td>\n",
       "      <td>25</td>\n",
       "      <td>3</td>\n",
       "      <td>0</td>\n",
       "    </tr>\n",
       "    <tr>\n",
       "      <th>902</th>\n",
       "      <td>1.0</td>\n",
       "      <td>0.0</td>\n",
       "      <td>0.0</td>\n",
       "      <td>1.0</td>\n",
       "      <td>1.0</td>\n",
       "      <td>0.0</td>\n",
       "      <td>0.0</td>\n",
       "      <td>1.0</td>\n",
       "      <td>0.0</td>\n",
       "      <td>0.0</td>\n",
       "      <td>2014</td>\n",
       "      <td>3</td>\n",
       "      <td>25</td>\n",
       "      <td>3</td>\n",
       "      <td>0</td>\n",
       "    </tr>\n",
       "    <tr>\n",
       "      <th>3203</th>\n",
       "      <td>1.0</td>\n",
       "      <td>0.0</td>\n",
       "      <td>1.0</td>\n",
       "      <td>0.0</td>\n",
       "      <td>1.0</td>\n",
       "      <td>0.0</td>\n",
       "      <td>0.0</td>\n",
       "      <td>1.0</td>\n",
       "      <td>0.0</td>\n",
       "      <td>0.0</td>\n",
       "      <td>2013</td>\n",
       "      <td>1</td>\n",
       "      <td>39</td>\n",
       "      <td>1</td>\n",
       "      <td>1</td>\n",
       "    </tr>\n",
       "    <tr>\n",
       "      <th>2427</th>\n",
       "      <td>1.0</td>\n",
       "      <td>0.0</td>\n",
       "      <td>1.0</td>\n",
       "      <td>0.0</td>\n",
       "      <td>0.0</td>\n",
       "      <td>0.0</td>\n",
       "      <td>1.0</td>\n",
       "      <td>1.0</td>\n",
       "      <td>0.0</td>\n",
       "      <td>0.0</td>\n",
       "      <td>2015</td>\n",
       "      <td>2</td>\n",
       "      <td>29</td>\n",
       "      <td>2</td>\n",
       "      <td>1</td>\n",
       "    </tr>\n",
       "    <tr>\n",
       "      <th>...</th>\n",
       "      <td>...</td>\n",
       "      <td>...</td>\n",
       "      <td>...</td>\n",
       "      <td>...</td>\n",
       "      <td>...</td>\n",
       "      <td>...</td>\n",
       "      <td>...</td>\n",
       "      <td>...</td>\n",
       "      <td>...</td>\n",
       "      <td>...</td>\n",
       "      <td>...</td>\n",
       "      <td>...</td>\n",
       "      <td>...</td>\n",
       "      <td>...</td>\n",
       "      <td>...</td>\n",
       "    </tr>\n",
       "    <tr>\n",
       "      <th>3704</th>\n",
       "      <td>1.0</td>\n",
       "      <td>0.0</td>\n",
       "      <td>1.0</td>\n",
       "      <td>0.0</td>\n",
       "      <td>0.0</td>\n",
       "      <td>0.0</td>\n",
       "      <td>1.0</td>\n",
       "      <td>1.0</td>\n",
       "      <td>0.0</td>\n",
       "      <td>0.0</td>\n",
       "      <td>2017</td>\n",
       "      <td>3</td>\n",
       "      <td>41</td>\n",
       "      <td>4</td>\n",
       "      <td>1</td>\n",
       "    </tr>\n",
       "    <tr>\n",
       "      <th>2799</th>\n",
       "      <td>0.0</td>\n",
       "      <td>1.0</td>\n",
       "      <td>0.0</td>\n",
       "      <td>1.0</td>\n",
       "      <td>1.0</td>\n",
       "      <td>0.0</td>\n",
       "      <td>0.0</td>\n",
       "      <td>1.0</td>\n",
       "      <td>0.0</td>\n",
       "      <td>0.0</td>\n",
       "      <td>2012</td>\n",
       "      <td>3</td>\n",
       "      <td>28</td>\n",
       "      <td>2</td>\n",
       "      <td>0</td>\n",
       "    </tr>\n",
       "    <tr>\n",
       "      <th>4572</th>\n",
       "      <td>1.0</td>\n",
       "      <td>0.0</td>\n",
       "      <td>1.0</td>\n",
       "      <td>0.0</td>\n",
       "      <td>0.0</td>\n",
       "      <td>0.0</td>\n",
       "      <td>1.0</td>\n",
       "      <td>1.0</td>\n",
       "      <td>0.0</td>\n",
       "      <td>0.0</td>\n",
       "      <td>2014</td>\n",
       "      <td>1</td>\n",
       "      <td>22</td>\n",
       "      <td>0</td>\n",
       "      <td>1</td>\n",
       "    </tr>\n",
       "    <tr>\n",
       "      <th>2979</th>\n",
       "      <td>0.0</td>\n",
       "      <td>1.0</td>\n",
       "      <td>1.0</td>\n",
       "      <td>0.0</td>\n",
       "      <td>0.0</td>\n",
       "      <td>0.0</td>\n",
       "      <td>1.0</td>\n",
       "      <td>1.0</td>\n",
       "      <td>0.0</td>\n",
       "      <td>0.0</td>\n",
       "      <td>2015</td>\n",
       "      <td>2</td>\n",
       "      <td>26</td>\n",
       "      <td>4</td>\n",
       "      <td>1</td>\n",
       "    </tr>\n",
       "    <tr>\n",
       "      <th>3675</th>\n",
       "      <td>1.0</td>\n",
       "      <td>0.0</td>\n",
       "      <td>1.0</td>\n",
       "      <td>0.0</td>\n",
       "      <td>0.0</td>\n",
       "      <td>0.0</td>\n",
       "      <td>1.0</td>\n",
       "      <td>1.0</td>\n",
       "      <td>0.0</td>\n",
       "      <td>0.0</td>\n",
       "      <td>2014</td>\n",
       "      <td>2</td>\n",
       "      <td>40</td>\n",
       "      <td>3</td>\n",
       "      <td>1</td>\n",
       "    </tr>\n",
       "  </tbody>\n",
       "</table>\n",
       "<p>1396 rows × 15 columns</p>\n",
       "</div>"
      ],
      "text/plain": [
       "       No  Yes  Female  Male  Bangalore  New Delhi  Pune  Bachelors  Masters  \\\n",
       "825   1.0  0.0     1.0   0.0        1.0        0.0   0.0        1.0      0.0   \n",
       "1395  1.0  0.0     0.0   1.0        1.0        0.0   0.0        1.0      0.0   \n",
       "902   1.0  0.0     0.0   1.0        1.0        0.0   0.0        1.0      0.0   \n",
       "3203  1.0  0.0     1.0   0.0        1.0        0.0   0.0        1.0      0.0   \n",
       "2427  1.0  0.0     1.0   0.0        0.0        0.0   1.0        1.0      0.0   \n",
       "...   ...  ...     ...   ...        ...        ...   ...        ...      ...   \n",
       "3704  1.0  0.0     1.0   0.0        0.0        0.0   1.0        1.0      0.0   \n",
       "2799  0.0  1.0     0.0   1.0        1.0        0.0   0.0        1.0      0.0   \n",
       "4572  1.0  0.0     1.0   0.0        0.0        0.0   1.0        1.0      0.0   \n",
       "2979  0.0  1.0     1.0   0.0        0.0        0.0   1.0        1.0      0.0   \n",
       "3675  1.0  0.0     1.0   0.0        0.0        0.0   1.0        1.0      0.0   \n",
       "\n",
       "      PHD  JoiningYear  PaymentTier  Age  ExperienceInCurrentDomain  \\\n",
       "825   0.0         2012            3   27                          5   \n",
       "1395  0.0         2014            3   25                          3   \n",
       "902   0.0         2014            3   25                          3   \n",
       "3203  0.0         2013            1   39                          1   \n",
       "2427  0.0         2015            2   29                          2   \n",
       "...   ...          ...          ...  ...                        ...   \n",
       "3704  0.0         2017            3   41                          4   \n",
       "2799  0.0         2012            3   28                          2   \n",
       "4572  0.0         2014            1   22                          0   \n",
       "2979  0.0         2015            2   26                          4   \n",
       "3675  0.0         2014            2   40                          3   \n",
       "\n",
       "      LeaveOrNot  \n",
       "825            0  \n",
       "1395           0  \n",
       "902            0  \n",
       "3203           1  \n",
       "2427           1  \n",
       "...          ...  \n",
       "3704           1  \n",
       "2799           0  \n",
       "4572           1  \n",
       "2979           1  \n",
       "3675           1  \n",
       "\n",
       "[1396 rows x 15 columns]"
      ]
     },
     "execution_count": 30,
     "metadata": {},
     "output_type": "execute_result"
    }
   ],
   "source": [
    "test_set"
   ]
  },
  {
   "cell_type": "code",
   "execution_count": 31,
   "id": "c2f0d52b-24f6-4294-a491-0648020831ef",
   "metadata": {
    "tags": []
   },
   "outputs": [],
   "source": [
    "X_train_feng_path = '../' + config_data['train_test_data']['directory'] + config_data['train_test_data']['X_train_feng']\n",
    "y_train_feng_path = '../' + config_data['train_test_data']['directory'] + config_data['train_test_data']['y_train_feng']\n",
    "\n",
    "X_test_feng_path = '../' + config_data['train_test_data']['directory'] + config_data['train_test_data']['X_test_feng']\n",
    "y_test_feng_path = '../' + config_data['train_test_data']['directory'] + config_data['train_test_data']['y_test_feng']\n",
    "\n",
    "util.pickle_dump(X_train, X_train_feng_path)\n",
    "util.pickle_dump(y_train, y_train_feng_path)\n",
    "\n",
    "util.pickle_dump(test_set.drop(columns = config_data['data_source']['target_name']), X_test_feng_path)\n",
    "util.pickle_dump(test_set[config_data['data_source']['target_name']], y_test_feng_path)"
   ]
  }
 ],
 "metadata": {
  "kernelspec": {
   "display_name": "employee_churn",
   "language": "python",
   "name": "employee_churn"
  },
  "language_info": {
   "codemirror_mode": {
    "name": "ipython",
    "version": 3
   },
   "file_extension": ".py",
   "mimetype": "text/x-python",
   "name": "python",
   "nbconvert_exporter": "python",
   "pygments_lexer": "ipython3",
   "version": "3.11.5"
  }
 },
 "nbformat": 4,
 "nbformat_minor": 5
}
