{
 "cells": [
  {
   "cell_type": "markdown",
   "id": "18df5448-3f6a-4987-8418-c0c22fcc0f38",
   "metadata": {},
   "source": [
    "# Data Pipeline"
   ]
  },
  {
   "cell_type": "markdown",
   "id": "ccefd0db-961c-4a17-930f-a094da4e5b39",
   "metadata": {
    "tags": []
   },
   "source": [
    "## Import Libraries"
   ]
  },
  {
   "cell_type": "code",
   "execution_count": 1,
   "id": "e5613934-47c8-4abe-9001-abe5ad13a4e6",
   "metadata": {},
   "outputs": [
    {
     "name": "stdout",
     "output_type": "stream",
     "text": [
      "utils good\n"
     ]
    }
   ],
   "source": [
    "from sklearn.model_selection import train_test_split\n",
    "import pandas as pd\n",
    "\n",
    "import sys\n",
    "sys.path.append('../src')  \n",
    "import utils as util"
   ]
  },
  {
   "cell_type": "code",
   "execution_count": 2,
   "id": "b4dcef3f-f5d9-46dc-a876-cec7bf0aea64",
   "metadata": {
    "tags": []
   },
   "outputs": [
    {
     "name": "stdout",
     "output_type": "stream",
     "text": [
      "OneHotEncoder\n",
      "config_dir\n",
      "datetime\n",
      "dump_dataset\n",
      "joblib\n",
      "load_config\n",
      "load_dataset\n",
      "ohe_input\n",
      "pd\n",
      "pickle_dump\n",
      "pickle_load\n",
      "ros_fit_resample\n",
      "rus_fit_resample\n",
      "smote_fit_resample\n",
      "yaml\n"
     ]
    }
   ],
   "source": [
    "all_attributes = dir(util)\n",
    "\n",
    "user_defined = [attr for attr in all_attributes if not attr.startswith('_')]\n",
    "\n",
    "for attr in user_defined:\n",
    "    print(attr)"
   ]
  },
  {
   "cell_type": "markdown",
   "id": "9bd30e0d-601d-478a-bdcb-541ffc221dd2",
   "metadata": {},
   "source": [
    "## Load Configuration File"
   ]
  },
  {
   "cell_type": "code",
   "execution_count": 3,
   "id": "7c33ef89-c567-458c-823a-d9c926b74318",
   "metadata": {
    "tags": []
   },
   "outputs": [],
   "source": [
    "config_data = util.load_config()"
   ]
  },
  {
   "cell_type": "markdown",
   "id": "0297fce7-88d1-49e5-b734-c6802139c9fc",
   "metadata": {},
   "source": [
    "## Data Collection"
   ]
  },
  {
   "cell_type": "code",
   "execution_count": 4,
   "id": "bd2384a2-ed2d-4b80-a617-d2a9cb94a941",
   "metadata": {
    "tags": []
   },
   "outputs": [],
   "source": [
    "def read_raw_data(config: dict) -> pd.DataFrame:\n",
    "    raw_dataset = pd.DataFrame()\n",
    "\n",
    "    raw_dataset_dir = '../' + config['data_source']['directory'] + config['data_source']['file_name']  \n",
    "    raw_dataset = pd.read_csv(raw_dataset_dir, encoding='utf-8')\n",
    "    \n",
    "    return raw_dataset"
   ]
  },
  {
   "cell_type": "code",
   "execution_count": 5,
   "id": "12ace799-b10d-419d-ba4c-c2cc66290af6",
   "metadata": {
    "tags": []
   },
   "outputs": [],
   "source": [
    "raw_dataset = read_raw_data(config_data)"
   ]
  },
  {
   "cell_type": "code",
   "execution_count": 6,
   "id": "e5700e65-e0dc-4ecb-a3fd-8e490c116545",
   "metadata": {
    "tags": []
   },
   "outputs": [
    {
     "data": {
      "text/html": [
       "<div>\n",
       "<style scoped>\n",
       "    .dataframe tbody tr th:only-of-type {\n",
       "        vertical-align: middle;\n",
       "    }\n",
       "\n",
       "    .dataframe tbody tr th {\n",
       "        vertical-align: top;\n",
       "    }\n",
       "\n",
       "    .dataframe thead th {\n",
       "        text-align: right;\n",
       "    }\n",
       "</style>\n",
       "<table border=\"1\" class=\"dataframe\">\n",
       "  <thead>\n",
       "    <tr style=\"text-align: right;\">\n",
       "      <th></th>\n",
       "      <th>Education</th>\n",
       "      <th>JoiningYear</th>\n",
       "      <th>City</th>\n",
       "      <th>PaymentTier</th>\n",
       "      <th>Age</th>\n",
       "      <th>Gender</th>\n",
       "      <th>EverBenched</th>\n",
       "      <th>ExperienceInCurrentDomain</th>\n",
       "      <th>LeaveOrNot</th>\n",
       "    </tr>\n",
       "  </thead>\n",
       "  <tbody>\n",
       "    <tr>\n",
       "      <th>0</th>\n",
       "      <td>Bachelors</td>\n",
       "      <td>2017</td>\n",
       "      <td>Bangalore</td>\n",
       "      <td>3</td>\n",
       "      <td>34</td>\n",
       "      <td>Male</td>\n",
       "      <td>No</td>\n",
       "      <td>0</td>\n",
       "      <td>0</td>\n",
       "    </tr>\n",
       "    <tr>\n",
       "      <th>1</th>\n",
       "      <td>Bachelors</td>\n",
       "      <td>2013</td>\n",
       "      <td>Pune</td>\n",
       "      <td>1</td>\n",
       "      <td>28</td>\n",
       "      <td>Female</td>\n",
       "      <td>No</td>\n",
       "      <td>3</td>\n",
       "      <td>1</td>\n",
       "    </tr>\n",
       "    <tr>\n",
       "      <th>2</th>\n",
       "      <td>Bachelors</td>\n",
       "      <td>2014</td>\n",
       "      <td>New Delhi</td>\n",
       "      <td>3</td>\n",
       "      <td>38</td>\n",
       "      <td>Female</td>\n",
       "      <td>No</td>\n",
       "      <td>2</td>\n",
       "      <td>0</td>\n",
       "    </tr>\n",
       "    <tr>\n",
       "      <th>3</th>\n",
       "      <td>Masters</td>\n",
       "      <td>2016</td>\n",
       "      <td>Bangalore</td>\n",
       "      <td>3</td>\n",
       "      <td>27</td>\n",
       "      <td>Male</td>\n",
       "      <td>No</td>\n",
       "      <td>5</td>\n",
       "      <td>1</td>\n",
       "    </tr>\n",
       "    <tr>\n",
       "      <th>4</th>\n",
       "      <td>Masters</td>\n",
       "      <td>2017</td>\n",
       "      <td>Pune</td>\n",
       "      <td>3</td>\n",
       "      <td>24</td>\n",
       "      <td>Male</td>\n",
       "      <td>Yes</td>\n",
       "      <td>2</td>\n",
       "      <td>1</td>\n",
       "    </tr>\n",
       "    <tr>\n",
       "      <th>...</th>\n",
       "      <td>...</td>\n",
       "      <td>...</td>\n",
       "      <td>...</td>\n",
       "      <td>...</td>\n",
       "      <td>...</td>\n",
       "      <td>...</td>\n",
       "      <td>...</td>\n",
       "      <td>...</td>\n",
       "      <td>...</td>\n",
       "    </tr>\n",
       "    <tr>\n",
       "      <th>4648</th>\n",
       "      <td>Bachelors</td>\n",
       "      <td>2013</td>\n",
       "      <td>Bangalore</td>\n",
       "      <td>3</td>\n",
       "      <td>26</td>\n",
       "      <td>Female</td>\n",
       "      <td>No</td>\n",
       "      <td>4</td>\n",
       "      <td>0</td>\n",
       "    </tr>\n",
       "    <tr>\n",
       "      <th>4649</th>\n",
       "      <td>Masters</td>\n",
       "      <td>2013</td>\n",
       "      <td>Pune</td>\n",
       "      <td>2</td>\n",
       "      <td>37</td>\n",
       "      <td>Male</td>\n",
       "      <td>No</td>\n",
       "      <td>2</td>\n",
       "      <td>1</td>\n",
       "    </tr>\n",
       "    <tr>\n",
       "      <th>4650</th>\n",
       "      <td>Masters</td>\n",
       "      <td>2018</td>\n",
       "      <td>New Delhi</td>\n",
       "      <td>3</td>\n",
       "      <td>27</td>\n",
       "      <td>Male</td>\n",
       "      <td>No</td>\n",
       "      <td>5</td>\n",
       "      <td>1</td>\n",
       "    </tr>\n",
       "    <tr>\n",
       "      <th>4651</th>\n",
       "      <td>Bachelors</td>\n",
       "      <td>2012</td>\n",
       "      <td>Bangalore</td>\n",
       "      <td>3</td>\n",
       "      <td>30</td>\n",
       "      <td>Male</td>\n",
       "      <td>Yes</td>\n",
       "      <td>2</td>\n",
       "      <td>0</td>\n",
       "    </tr>\n",
       "    <tr>\n",
       "      <th>4652</th>\n",
       "      <td>Bachelors</td>\n",
       "      <td>2015</td>\n",
       "      <td>Bangalore</td>\n",
       "      <td>3</td>\n",
       "      <td>33</td>\n",
       "      <td>Male</td>\n",
       "      <td>Yes</td>\n",
       "      <td>4</td>\n",
       "      <td>0</td>\n",
       "    </tr>\n",
       "  </tbody>\n",
       "</table>\n",
       "<p>4653 rows × 9 columns</p>\n",
       "</div>"
      ],
      "text/plain": [
       "      Education  JoiningYear       City  PaymentTier  Age  Gender EverBenched  \\\n",
       "0     Bachelors         2017  Bangalore            3   34    Male          No   \n",
       "1     Bachelors         2013       Pune            1   28  Female          No   \n",
       "2     Bachelors         2014  New Delhi            3   38  Female          No   \n",
       "3       Masters         2016  Bangalore            3   27    Male          No   \n",
       "4       Masters         2017       Pune            3   24    Male         Yes   \n",
       "...         ...          ...        ...          ...  ...     ...         ...   \n",
       "4648  Bachelors         2013  Bangalore            3   26  Female          No   \n",
       "4649    Masters         2013       Pune            2   37    Male          No   \n",
       "4650    Masters         2018  New Delhi            3   27    Male          No   \n",
       "4651  Bachelors         2012  Bangalore            3   30    Male         Yes   \n",
       "4652  Bachelors         2015  Bangalore            3   33    Male         Yes   \n",
       "\n",
       "      ExperienceInCurrentDomain  LeaveOrNot  \n",
       "0                             0           0  \n",
       "1                             3           1  \n",
       "2                             2           0  \n",
       "3                             5           1  \n",
       "4                             2           1  \n",
       "...                         ...         ...  \n",
       "4648                          4           0  \n",
       "4649                          2           1  \n",
       "4650                          5           1  \n",
       "4651                          2           0  \n",
       "4652                          4           0  \n",
       "\n",
       "[4653 rows x 9 columns]"
      ]
     },
     "execution_count": 6,
     "metadata": {},
     "output_type": "execute_result"
    }
   ],
   "source": [
    "raw_dataset"
   ]
  },
  {
   "cell_type": "code",
   "execution_count": 7,
   "id": "376cb034-9dc8-46c3-9021-54237b52a72a",
   "metadata": {
    "tags": []
   },
   "outputs": [],
   "source": [
    "util.pickle_dump(raw_dataset, '../' + config_data['train_test_data']['directory'] + config_data['train_test_data']['raw_dataset'])"
   ]
  },
  {
   "cell_type": "markdown",
   "id": "6576ef44-c8f4-4245-902b-87efda891d11",
   "metadata": {},
   "source": [
    "## Data Definition"
   ]
  },
  {
   "cell_type": "markdown",
   "id": "6c3b88e2-e4b6-40a4-801c-18bfe12c06b4",
   "metadata": {
    "tags": []
   },
   "source": [
    "Education         :\n",
    "    [object]\n",
    "    ['Bachelors', 'Masters', 'PHD']\n",
    "    pendidikan terakhir karyawan\n",
    "\n",
    "JoiningYear         :\n",
    "    [integer]\n",
    "    [2012 - 2018]\n",
    "    tahun karyawan bergabung\n",
    "\n",
    "City            :\n",
    "    [object]\n",
    "    ['Bangalore', 'Pune', 'New Delhi']\n",
    "    kota asal karyawan\n",
    "\n",
    "PaymentTier            :\n",
    "    [integer]\n",
    "    [1 - 3]\n",
    "    jenis tipe pembayaran karyawan\n",
    "\n",
    "Age             :\n",
    "    [integer]\n",
    "    [22 - 41]\n",
    "    usia karyawan\n",
    "\n",
    "Gender              :\n",
    "    [object]\n",
    "    ['Male', 'Female']\n",
    "    jenis kelamin karyawan\n",
    "\n",
    "EverBenched              :\n",
    "    [object]\n",
    "    ['No', 'Yes']\n",
    "    indikasi apakah karyawan sempat menganggur\n",
    "\n",
    "ExperienceInCurrentDomain             :\n",
    "    [integer]\n",
    "    [0 - 7]\n",
    "    berapa tahun pengalaman karyawan pada domain \n",
    "\n",
    "LeaveOrNot             :\n",
    "    [integer]\n",
    "    [0 - 1]\n",
    "    status apakah churn atau tidak"
   ]
  },
  {
   "cell_type": "markdown",
   "id": "3095cc88-a051-4388-8f41-66fbdda0843f",
   "metadata": {},
   "source": [
    "## Data Validation"
   ]
  },
  {
   "cell_type": "markdown",
   "id": "c20eec9c-9040-4602-afb8-e021f7e06256",
   "metadata": {},
   "source": [
    "### Data Type"
   ]
  },
  {
   "cell_type": "code",
   "execution_count": 8,
   "id": "5fe9d8de-8af1-4e29-9acd-b436ed76be8d",
   "metadata": {
    "tags": []
   },
   "outputs": [
    {
     "data": {
      "text/plain": [
       "Education                    object\n",
       "JoiningYear                   int64\n",
       "City                         object\n",
       "PaymentTier                   int64\n",
       "Age                           int64\n",
       "Gender                       object\n",
       "EverBenched                  object\n",
       "ExperienceInCurrentDomain     int64\n",
       "LeaveOrNot                    int64\n",
       "dtype: object"
      ]
     },
     "execution_count": 8,
     "metadata": {},
     "output_type": "execute_result"
    }
   ],
   "source": [
    "raw_dataset.dtypes"
   ]
  },
  {
   "cell_type": "markdown",
   "id": "02809b9e-2e39-4f9c-8e1b-7c5eb6308a7b",
   "metadata": {},
   "source": [
    "### Data Range"
   ]
  },
  {
   "cell_type": "code",
   "execution_count": 9,
   "id": "4b3c8e7c-7ef3-4871-af5f-030e5407872d",
   "metadata": {
    "tags": []
   },
   "outputs": [
    {
     "data": {
      "text/html": [
       "<div>\n",
       "<style scoped>\n",
       "    .dataframe tbody tr th:only-of-type {\n",
       "        vertical-align: middle;\n",
       "    }\n",
       "\n",
       "    .dataframe tbody tr th {\n",
       "        vertical-align: top;\n",
       "    }\n",
       "\n",
       "    .dataframe thead th {\n",
       "        text-align: right;\n",
       "    }\n",
       "</style>\n",
       "<table border=\"1\" class=\"dataframe\">\n",
       "  <thead>\n",
       "    <tr style=\"text-align: right;\">\n",
       "      <th></th>\n",
       "      <th>JoiningYear</th>\n",
       "      <th>PaymentTier</th>\n",
       "      <th>Age</th>\n",
       "      <th>ExperienceInCurrentDomain</th>\n",
       "      <th>LeaveOrNot</th>\n",
       "    </tr>\n",
       "  </thead>\n",
       "  <tbody>\n",
       "    <tr>\n",
       "      <th>count</th>\n",
       "      <td>4653.000000</td>\n",
       "      <td>4653.000000</td>\n",
       "      <td>4653.000000</td>\n",
       "      <td>4653.000000</td>\n",
       "      <td>4653.000000</td>\n",
       "    </tr>\n",
       "    <tr>\n",
       "      <th>mean</th>\n",
       "      <td>2015.062970</td>\n",
       "      <td>2.698259</td>\n",
       "      <td>29.393295</td>\n",
       "      <td>2.905652</td>\n",
       "      <td>0.343864</td>\n",
       "    </tr>\n",
       "    <tr>\n",
       "      <th>std</th>\n",
       "      <td>1.863377</td>\n",
       "      <td>0.561435</td>\n",
       "      <td>4.826087</td>\n",
       "      <td>1.558240</td>\n",
       "      <td>0.475047</td>\n",
       "    </tr>\n",
       "    <tr>\n",
       "      <th>min</th>\n",
       "      <td>2012.000000</td>\n",
       "      <td>1.000000</td>\n",
       "      <td>22.000000</td>\n",
       "      <td>0.000000</td>\n",
       "      <td>0.000000</td>\n",
       "    </tr>\n",
       "    <tr>\n",
       "      <th>25%</th>\n",
       "      <td>2013.000000</td>\n",
       "      <td>3.000000</td>\n",
       "      <td>26.000000</td>\n",
       "      <td>2.000000</td>\n",
       "      <td>0.000000</td>\n",
       "    </tr>\n",
       "    <tr>\n",
       "      <th>50%</th>\n",
       "      <td>2015.000000</td>\n",
       "      <td>3.000000</td>\n",
       "      <td>28.000000</td>\n",
       "      <td>3.000000</td>\n",
       "      <td>0.000000</td>\n",
       "    </tr>\n",
       "    <tr>\n",
       "      <th>75%</th>\n",
       "      <td>2017.000000</td>\n",
       "      <td>3.000000</td>\n",
       "      <td>32.000000</td>\n",
       "      <td>4.000000</td>\n",
       "      <td>1.000000</td>\n",
       "    </tr>\n",
       "    <tr>\n",
       "      <th>max</th>\n",
       "      <td>2018.000000</td>\n",
       "      <td>3.000000</td>\n",
       "      <td>41.000000</td>\n",
       "      <td>7.000000</td>\n",
       "      <td>1.000000</td>\n",
       "    </tr>\n",
       "  </tbody>\n",
       "</table>\n",
       "</div>"
      ],
      "text/plain": [
       "       JoiningYear  PaymentTier          Age  ExperienceInCurrentDomain  \\\n",
       "count  4653.000000  4653.000000  4653.000000                4653.000000   \n",
       "mean   2015.062970     2.698259    29.393295                   2.905652   \n",
       "std       1.863377     0.561435     4.826087                   1.558240   \n",
       "min    2012.000000     1.000000    22.000000                   0.000000   \n",
       "25%    2013.000000     3.000000    26.000000                   2.000000   \n",
       "50%    2015.000000     3.000000    28.000000                   3.000000   \n",
       "75%    2017.000000     3.000000    32.000000                   4.000000   \n",
       "max    2018.000000     3.000000    41.000000                   7.000000   \n",
       "\n",
       "        LeaveOrNot  \n",
       "count  4653.000000  \n",
       "mean      0.343864  \n",
       "std       0.475047  \n",
       "min       0.000000  \n",
       "25%       0.000000  \n",
       "50%       0.000000  \n",
       "75%       1.000000  \n",
       "max       1.000000  "
      ]
     },
     "execution_count": 9,
     "metadata": {},
     "output_type": "execute_result"
    }
   ],
   "source": [
    "raw_dataset.describe()"
   ]
  },
  {
   "cell_type": "markdown",
   "id": "44559411-5a20-4063-adc4-1cb91f732462",
   "metadata": {},
   "source": [
    "### Data Dimension"
   ]
  },
  {
   "cell_type": "code",
   "execution_count": 10,
   "id": "c5d2dc6e-314b-45a8-b40f-2ec2b5091e64",
   "metadata": {
    "tags": []
   },
   "outputs": [
    {
     "data": {
      "text/plain": [
       "(4653, 9)"
      ]
     },
     "execution_count": 10,
     "metadata": {},
     "output_type": "execute_result"
    }
   ],
   "source": [
    "raw_dataset.shape"
   ]
  },
  {
   "cell_type": "markdown",
   "id": "5645240b-eae8-4f06-8b5e-d696abbe5de6",
   "metadata": {},
   "source": [
    "## Data Defense"
   ]
  },
  {
   "cell_type": "code",
   "execution_count": 11,
   "id": "bd8c7306-b573-4937-ad78-2f8378f68771",
   "metadata": {
    "tags": []
   },
   "outputs": [],
   "source": [
    "def check_data(input_data, config):\n",
    "    \n",
    "    # Education\n",
    "    assert input_data['Education'][0] in config['data_defense']['Education']['value'] or\\\n",
    "        input_data['Education'][0] != '',\\\n",
    "        f\"Education must be in list {config['data_defense']['Education']['value']}, and cannot be empty.\"\n",
    "    \n",
    "    # City\n",
    "    assert input_data['City'][0] in config['data_defense']['City']['value'] or\\\n",
    "        input_data['City'][0] != '',\\\n",
    "        f\"City must be in list {config['data_defense']['City']['value']}, and cannot be empty.\"\n",
    "    \n",
    "    # Gender\n",
    "    assert input_data['Gender'][0] in config['data_defense']['Gender']['value'] or\\\n",
    "        input_data['Gender'][0] != '',\\\n",
    "        f\"Gender must be in list {config['data_defense']['Gender']['value']}, and cannot be empty.\"\n",
    "    \n",
    "    # EverBenched\n",
    "    assert input_data['EverBenched'][0] in config['data_defense']['EverBenched']['value'] or\\\n",
    "        input_data['EverBenched'][0] != '',\\\n",
    "        f\"EverBenched must be in list {config['data_defense']['EverBenched']['value']}, and cannot be empty.\"\n",
    "    \n",
    "    # JoiningYear\n",
    "    assert input_data.JoiningYear.between(config['data_defense']['JoiningYear'][0], config['data_defense']['JoiningYear'][1]).sum() == len(input_data),\\\n",
    "        \"an error occurs in JoiningYear range.\"\n",
    "    \n",
    "    # PaymentTier\n",
    "    assert input_data.PaymentTier.between(config['data_defense']['PaymentTier'][0], config['data_defense']['PaymentTier'][1]).sum() == len(input_data),\\\n",
    "        \"an error occurs in PaymentTier range.\"\n",
    "    \n",
    "    # Age\n",
    "    assert input_data.Age.between(config['data_defense']['Age'][0], config['data_defense']['Age'][1]).sum() == len(input_data),\\\n",
    "        \"an error occurs in Age range.\"\n",
    "    \n",
    "    # ExperienceInCurrentDomain\n",
    "    assert input_data.ExperienceInCurrentDomain.between(config['data_defense']['ExperienceInCurrentDomain'][0], config['data_defense']['ExperienceInCurrentDomain'][1]).sum() == len(input_data),\\\n",
    "        \"an error occurs in ExperienceInCurrentDomain range.\""
   ]
  },
  {
   "cell_type": "code",
   "execution_count": 12,
   "id": "beb7b433-2a69-46b2-9e9e-6a34ac03839c",
   "metadata": {},
   "outputs": [],
   "source": [
    "check_data(raw_dataset, config_data)"
   ]
  },
  {
   "cell_type": "markdown",
   "id": "cd19ef0d-64dd-4624-9faa-7aaae803ea2b",
   "metadata": {},
   "source": [
    "## Data Splitting"
   ]
  },
  {
   "cell_type": "code",
   "execution_count": 13,
   "id": "1eb4441c-9025-4299-be0e-2af5c0db0361",
   "metadata": {},
   "outputs": [],
   "source": [
    "X = raw_dataset[config_data['data_source']['features']].copy()\n",
    "y = raw_dataset[config_data['data_source']['target_name']].copy()"
   ]
  },
  {
   "cell_type": "code",
   "execution_count": 14,
   "id": "ee91d378-afdb-4ecf-a16c-19f3f224be41",
   "metadata": {},
   "outputs": [
    {
     "name": "stdout",
     "output_type": "stream",
     "text": [
      "<class 'pandas.core.frame.DataFrame'>\n",
      "RangeIndex: 4653 entries, 0 to 4652\n",
      "Data columns (total 8 columns):\n",
      " #   Column                     Non-Null Count  Dtype \n",
      "---  ------                     --------------  ----- \n",
      " 0   Education                  4653 non-null   object\n",
      " 1   JoiningYear                4653 non-null   int64 \n",
      " 2   City                       4653 non-null   object\n",
      " 3   PaymentTier                4653 non-null   int64 \n",
      " 4   Age                        4653 non-null   int64 \n",
      " 5   Gender                     4653 non-null   object\n",
      " 6   EverBenched                4653 non-null   object\n",
      " 7   ExperienceInCurrentDomain  4653 non-null   int64 \n",
      "dtypes: int64(4), object(4)\n",
      "memory usage: 290.9+ KB\n"
     ]
    }
   ],
   "source": [
    "X.info()"
   ]
  },
  {
   "cell_type": "code",
   "execution_count": 15,
   "id": "c31f8e1e-5f12-4ad9-8e2e-901019395e23",
   "metadata": {
    "tags": []
   },
   "outputs": [
    {
     "data": {
      "text/plain": [
       "LeaveOrNot\n",
       "0    3053\n",
       "1    1600\n",
       "Name: count, dtype: int64"
      ]
     },
     "execution_count": 15,
     "metadata": {},
     "output_type": "execute_result"
    }
   ],
   "source": [
    "y.value_counts()"
   ]
  },
  {
   "cell_type": "code",
   "execution_count": 16,
   "id": "2baf560d-58fe-4fec-afb0-957c4a5bfec0",
   "metadata": {
    "tags": []
   },
   "outputs": [],
   "source": [
    "X_train, X_test, y_train, y_test = train_test_split(X, y, test_size = config_data['data_source']['test_size'], \n",
    "                                                    random_state = config_data['data_source']['random_state'], stratify = y)"
   ]
  },
  {
   "cell_type": "code",
   "execution_count": 21,
   "id": "793cec23-9161-4e74-89a4-65f2dca718f6",
   "metadata": {
    "tags": []
   },
   "outputs": [],
   "source": [
    "# y_train"
   ]
  },
  {
   "cell_type": "markdown",
   "id": "76e5c1b8-75b8-43ca-beec-e0e8a4d1b569",
   "metadata": {},
   "source": [
    "## Dump Data"
   ]
  },
  {
   "cell_type": "code",
   "execution_count": 19,
   "id": "78bff390-7aed-443d-a410-c4815e1f5351",
   "metadata": {},
   "outputs": [],
   "source": [
    "X_train_path = '../' + config_data['train_test_data']['directory'] + config_data['train_test_data']['X_train']\n",
    "y_train_path = '../' + config_data['train_test_data']['directory'] + config_data['train_test_data']['y_train']\n",
    "\n",
    "X_test_path = '../' + config_data['train_test_data']['directory'] + config_data['train_test_data']['X_test']\n",
    "y_test_path = '../' + config_data['train_test_data']['directory'] + config_data['train_test_data']['y_test']\n",
    "\n",
    "util.pickle_dump(X_train, X_train_path)\n",
    "util.pickle_dump(y_train, y_train_path)\n",
    "util.pickle_dump(X_test, X_test_path)\n",
    "util.pickle_dump(y_test, y_test_path)"
   ]
  }
 ],
 "metadata": {
  "kernelspec": {
   "display_name": "employee_churn",
   "language": "python",
   "name": "employee_churn"
  },
  "language_info": {
   "codemirror_mode": {
    "name": "ipython",
    "version": 3
   },
   "file_extension": ".py",
   "mimetype": "text/x-python",
   "name": "python",
   "nbconvert_exporter": "python",
   "pygments_lexer": "ipython3",
   "version": "3.11.5"
  }
 },
 "nbformat": 4,
 "nbformat_minor": 5
}
